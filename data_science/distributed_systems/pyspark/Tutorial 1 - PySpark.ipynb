{
 "cells": [
  {
   "cell_type": "markdown",
   "id": "d9eeec2a-9872-4ce1-bad3-158342e400f2",
   "metadata": {
    "jp-MarkdownHeadingCollapsed": true,
    "tags": []
   },
   "source": [
    "# PySpark"
   ]
  },
  {
   "cell_type": "markdown",
   "id": "659ded11-f569-461b-9e36-775752fb1b62",
   "metadata": {},
   "source": [
    "คือเครื่องมือหนึ่งที่เกิดจากการรวมตัวกันระหว่าง Apache Spark กับ Python ซึ่งทำให้เราสามารถเขียน Python ใน Spark ได้ หรือเรียกง่ายๆก็คือเป็น Python API ของ Apache Spark นอกจากนี้ Pyspark ยังช่วยให้เราทำงานกับ RDDs ( Resilient Distributed Datasets) ได้ง่ายขึ้น"
   ]
  },
  {
   "cell_type": "markdown",
   "id": "56245d9d-e3bd-4c40-a1ba-e8402417c32f",
   "metadata": {
    "jp-MarkdownHeadingCollapsed": true,
    "tags": []
   },
   "source": [
    "# Install and import PySpark library"
   ]
  },
  {
   "cell_type": "code",
   "execution_count": 6,
   "id": "78a7c541-246f-450a-8ce5-e0879ad5cb37",
   "metadata": {},
   "outputs": [
    {
     "name": "stdout",
     "output_type": "stream",
     "text": [
      "Requirement already satisfied: pyspark in c:\\users\\user\\anaconda3\\lib\\site-packages (3.3.0)\n",
      "Requirement already satisfied: py4j==0.10.9.5 in c:\\users\\user\\anaconda3\\lib\\site-packages (from pyspark) (0.10.9.5)\n"
     ]
    }
   ],
   "source": [
    "!pip install pyspark"
   ]
  },
  {
   "cell_type": "code",
   "execution_count": 19,
   "id": "d6940405-bc0f-4f4d-9255-a1ff6bc77929",
   "metadata": {},
   "outputs": [],
   "source": [
    "import pyspark"
   ]
  },
  {
   "cell_type": "markdown",
   "id": "8e962074-dd03-4df5-8e2b-d9c23b89d1e8",
   "metadata": {
    "jp-MarkdownHeadingCollapsed": true,
    "tags": []
   },
   "source": [
    "# Start Spark session"
   ]
  },
  {
   "cell_type": "markdown",
   "id": "ab4950e4-db27-4621-99f5-a381d2120adc",
   "metadata": {},
   "source": [
    "import SparkSession มาจาก Spark SQL เพื่อที่เราจะทำงานกับข้อมูลได้สะดวก"
   ]
  },
  {
   "cell_type": "code",
   "execution_count": 12,
   "id": "f5fddc76-15c9-4c55-b591-22d6d7276824",
   "metadata": {},
   "outputs": [],
   "source": [
    "from pyspark.sql import SparkSession\n",
    "spark=SparkSession.builder.appName('Practise').getOrCreate()"
   ]
  },
  {
   "cell_type": "code",
   "execution_count": 13,
   "id": "c54ec94b-f44b-4a1f-8a76-8c6a7484ea8c",
   "metadata": {},
   "outputs": [
    {
     "data": {
      "text/html": [
       "\n",
       "            <div>\n",
       "                <p><b>SparkSession - in-memory</b></p>\n",
       "                \n",
       "        <div>\n",
       "            <p><b>SparkContext</b></p>\n",
       "\n",
       "            <p><a href=\"http://LAPTOP-69F2A453:4040\">Spark UI</a></p>\n",
       "\n",
       "            <dl>\n",
       "              <dt>Version</dt>\n",
       "                <dd><code>v3.3.0</code></dd>\n",
       "              <dt>Master</dt>\n",
       "                <dd><code>local[*]</code></dd>\n",
       "              <dt>AppName</dt>\n",
       "                <dd><code>Practise</code></dd>\n",
       "            </dl>\n",
       "        </div>\n",
       "        \n",
       "            </div>\n",
       "        "
      ],
      "text/plain": [
       "<pyspark.sql.session.SparkSession at 0x1ec634dfa30>"
      ]
     },
     "execution_count": 13,
     "metadata": {},
     "output_type": "execute_result"
    }
   ],
   "source": [
    "spark"
   ]
  },
  {
   "cell_type": "markdown",
   "id": "5610f2c9-bdc7-4b98-9f25-7d7c97260f21",
   "metadata": {
    "jp-MarkdownHeadingCollapsed": true,
    "tags": []
   },
   "source": [
    "# Load data"
   ]
  },
  {
   "cell_type": "markdown",
   "id": "07681a08-51fa-45e6-b701-58365ea3d74c",
   "metadata": {},
   "source": [
    "ใช้คำสั่ง `spark.read.csv` เพื่ออ่านไฟล์ CSV\n",
    "\n",
    "Arguments:\n",
    "\n",
    "header=True บรรทัดแรกสุดของไฟล์คือหัวตาราง\n",
    "\n",
    "inferSchema=True ให้ Spark พยายามเดาว่าชนิดข้อมูลในตารางคืออะไร"
   ]
  },
  {
   "cell_type": "code",
   "execution_count": 14,
   "id": "af3fb061-d296-4fa5-9051-01aa0864e2d2",
   "metadata": {},
   "outputs": [],
   "source": [
    "df_pyspark=spark.read.csv('dataset/test1.csv', header=True, inferSchema=True)\n",
    "# หรืออีกวิธีหนึ่ง\n",
    "# df_pyspark=spark.read.option('header', 'true').csv('dataset/test1.csv')"
   ]
  },
  {
   "cell_type": "code",
   "execution_count": 16,
   "id": "046a0d51-b315-46b4-8fdd-1915bb4ab87d",
   "metadata": {},
   "outputs": [
    {
     "name": "stdout",
     "output_type": "stream",
     "text": [
      "+--------+---+\n",
      "|    Name|age|\n",
      "+--------+---+\n",
      "|   Krish| 31|\n",
      "|Sudhansh| 30|\n",
      "|   Sunny| 29|\n",
      "+--------+---+\n",
      "\n"
     ]
    }
   ],
   "source": [
    "df_pyspark.show()"
   ]
  },
  {
   "cell_type": "code",
   "execution_count": 21,
   "id": "66f2e328-d09e-4c41-ad47-2e0c97786327",
   "metadata": {},
   "outputs": [
    {
     "name": "stdout",
     "output_type": "stream",
     "text": [
      "root\n",
      " |-- Name: string (nullable = true)\n",
      " |-- age: integer (nullable = true)\n",
      "\n"
     ]
    }
   ],
   "source": [
    "df_pyspark.printSchema()"
   ]
  },
  {
   "cell_type": "code",
   "execution_count": 18,
   "id": "7d4c2180-78d1-4f01-88a4-3bdcf4cfcd7a",
   "metadata": {},
   "outputs": [
    {
     "data": {
      "text/plain": [
       "pyspark.sql.dataframe.DataFrame"
      ]
     },
     "execution_count": 18,
     "metadata": {},
     "output_type": "execute_result"
    }
   ],
   "source": [
    "type(df_pyspark)"
   ]
  },
  {
   "cell_type": "markdown",
   "id": "1abb0250-7215-4470-9167-ed46afa1fa1b",
   "metadata": {},
   "source": [
    "ถ้าใช้ pandas อ่านจะเป็นคนละ type กัน"
   ]
  },
  {
   "cell_type": "code",
   "execution_count": 20,
   "id": "ee9a1367-10b0-4775-a204-3603960da738",
   "metadata": {},
   "outputs": [
    {
     "data": {
      "text/plain": [
       "pandas.core.frame.DataFrame"
      ]
     },
     "execution_count": 20,
     "metadata": {},
     "output_type": "execute_result"
    }
   ],
   "source": [
    "import pandas as pd\n",
    "type(pd.read_csv('dataset/test1.csv'))"
   ]
  }
 ],
 "metadata": {
  "kernelspec": {
   "display_name": "Python 3 (ipykernel)",
   "language": "python",
   "name": "python3"
  },
  "language_info": {
   "codemirror_mode": {
    "name": "ipython",
    "version": 3
   },
   "file_extension": ".py",
   "mimetype": "text/x-python",
   "name": "python",
   "nbconvert_exporter": "python",
   "pygments_lexer": "ipython3",
   "version": "3.9.12"
  }
 },
 "nbformat": 4,
 "nbformat_minor": 5
}
