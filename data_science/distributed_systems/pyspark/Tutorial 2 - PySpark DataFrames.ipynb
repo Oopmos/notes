{
 "cells": [
  {
   "cell_type": "markdown",
   "id": "94cd291a-349f-44b1-9b79-5dc4958c082b",
   "metadata": {},
   "source": [
    "ใน tutorial นี้จะมี\n",
    "- PySpark Dataframe\n",
    "- Reading The Dataset\n",
    "- Checking the Datatypes of the Column (Schema)\n",
    "- Selecting Columns and Indexing\n",
    "- Check Describe option similar to Pandas\n",
    "- Adding Columns\n",
    "- Dropping Columns\n",
    "- Renaming Columns"
   ]
  },
  {
   "cell_type": "markdown",
   "id": "309ca234-508a-4f1d-aaf1-726d1eb4b7e5",
   "metadata": {},
   "source": [
    "# Start Spark session"
   ]
  },
  {
   "cell_type": "code",
   "execution_count": 1,
   "id": "ae145d8b-5d69-4960-a6b8-9a97e9edd2df",
   "metadata": {},
   "outputs": [],
   "source": [
    "from pyspark.sql import SparkSession"
   ]
  },
  {
   "cell_type": "code",
   "execution_count": 2,
   "id": "963e0f92-7344-4059-b246-b0367f2737d9",
   "metadata": {},
   "outputs": [],
   "source": [
    "spark=SparkSession.builder.appName('Dataframe').getOrCreate()"
   ]
  },
  {
   "cell_type": "code",
   "execution_count": 4,
   "id": "6b068178-6f99-462f-93ab-600baa6ad99e",
   "metadata": {},
   "outputs": [
    {
     "data": {
      "text/html": [
       "\n",
       "            <div>\n",
       "                <p><b>SparkSession - in-memory</b></p>\n",
       "                \n",
       "        <div>\n",
       "            <p><b>SparkContext</b></p>\n",
       "\n",
       "            <p><a href=\"http://LAPTOP-69F2A453:4041\">Spark UI</a></p>\n",
       "\n",
       "            <dl>\n",
       "              <dt>Version</dt>\n",
       "                <dd><code>v3.3.0</code></dd>\n",
       "              <dt>Master</dt>\n",
       "                <dd><code>local[*]</code></dd>\n",
       "              <dt>AppName</dt>\n",
       "                <dd><code>Dataframe</code></dd>\n",
       "            </dl>\n",
       "        </div>\n",
       "        \n",
       "            </div>\n",
       "        "
      ],
      "text/plain": [
       "<pyspark.sql.session.SparkSession at 0x1df4791c820>"
      ]
     },
     "execution_count": 4,
     "metadata": {},
     "output_type": "execute_result"
    }
   ],
   "source": [
    "spark"
   ]
  },
  {
   "cell_type": "markdown",
   "id": "6a8b1d5c-2236-455b-afb5-766a75b0167f",
   "metadata": {},
   "source": [
    "# Reading The Dataset"
   ]
  },
  {
   "cell_type": "code",
   "execution_count": 10,
   "id": "bc2f6dd9-5e7f-4027-b504-2669e3aadcc7",
   "metadata": {},
   "outputs": [],
   "source": [
    "df_pyspark=spark.read.csv('dataset/test1.csv', header=True, inferSchema=True)"
   ]
  },
  {
   "cell_type": "markdown",
   "id": "465ecc24-9080-4605-9f22-275da4826a55",
   "metadata": {},
   "source": [
    "# Checking the Datatypes of the Column (Schema)"
   ]
  },
  {
   "cell_type": "code",
   "execution_count": 13,
   "id": "ead8564b-a587-44c5-8224-15592e324808",
   "metadata": {},
   "outputs": [
    {
     "name": "stdout",
     "output_type": "stream",
     "text": [
      "root\n",
      " |-- Name: string (nullable = true)\n",
      " |-- age: integer (nullable = true)\n",
      " |-- Experience: integer (nullable = true)\n",
      "\n"
     ]
    }
   ],
   "source": [
    "df_pyspark.printSchema()"
   ]
  },
  {
   "cell_type": "code",
   "execution_count": 14,
   "id": "41ca4f98-564c-4351-8f15-0b078fe1a619",
   "metadata": {},
   "outputs": [
    {
     "data": {
      "text/plain": [
       "pyspark.sql.dataframe.DataFrame"
      ]
     },
     "execution_count": 14,
     "metadata": {},
     "output_type": "execute_result"
    }
   ],
   "source": [
    "type(df_pyspark)"
   ]
  },
  {
   "cell_type": "markdown",
   "id": "f8097ad8-0eab-454f-b2ff-0b4ad828c18e",
   "metadata": {},
   "source": [
    "# Selecting Columns and Indexing"
   ]
  },
  {
   "cell_type": "code",
   "execution_count": 15,
   "id": "47e4ce21-d4e0-4083-b3b2-b41d87d5ecb0",
   "metadata": {},
   "outputs": [
    {
     "data": {
      "text/plain": [
       "['Name', 'age', 'Experience']"
      ]
     },
     "execution_count": 15,
     "metadata": {},
     "output_type": "execute_result"
    }
   ],
   "source": [
    "df_pyspark.columns # ดู column ทั้งหมด"
   ]
  },
  {
   "cell_type": "code",
   "execution_count": 16,
   "id": "5f726f76-4405-4da9-89db-82185f3439cc",
   "metadata": {},
   "outputs": [
    {
     "data": {
      "text/plain": [
       "[Row(Name='Krish', age=31, Experience=10),\n",
       " Row(Name='Sudhansh', age=30, Experience=8),\n",
       " Row(Name='Sunny', age=29, Experience=4)]"
      ]
     },
     "execution_count": 16,
     "metadata": {},
     "output_type": "execute_result"
    }
   ],
   "source": [
    "df_pyspark.head(3) # แสดงข้อมูล 3 แถวจากด้านบน"
   ]
  },
  {
   "cell_type": "code",
   "execution_count": 17,
   "id": "8244c95d-4ffb-4f6d-8643-df4e02f47613",
   "metadata": {},
   "outputs": [
    {
     "name": "stdout",
     "output_type": "stream",
     "text": [
      "+--------+\n",
      "|    Name|\n",
      "+--------+\n",
      "|   Krish|\n",
      "|Sudhansh|\n",
      "|   Sunny|\n",
      "+--------+\n",
      "\n"
     ]
    }
   ],
   "source": [
    "df_pyspark.select('Name').show() # แสดงข้อมูลเฉพาะ column ชื่อ Name"
   ]
  },
  {
   "cell_type": "code",
   "execution_count": 18,
   "id": "c5ca6a77-6b3e-4e90-a6ae-c8d5f6f1d041",
   "metadata": {},
   "outputs": [
    {
     "name": "stdout",
     "output_type": "stream",
     "text": [
      "+--------+----------+\n",
      "|    Name|Experience|\n",
      "+--------+----------+\n",
      "|   Krish|        10|\n",
      "|Sudhansh|         8|\n",
      "|   Sunny|         4|\n",
      "+--------+----------+\n",
      "\n"
     ]
    }
   ],
   "source": [
    "df_pyspark.select('Name', 'Experience').show() # แสดงข้อมูล column Name และ Experience"
   ]
  },
  {
   "cell_type": "code",
   "execution_count": 20,
   "id": "4b1b23d1-3bd3-4817-881d-556226606f2d",
   "metadata": {},
   "outputs": [
    {
     "data": {
      "text/plain": [
       "[('Name', 'string'), ('age', 'int'), ('Experience', 'int')]"
      ]
     },
     "execution_count": 20,
     "metadata": {},
     "output_type": "execute_result"
    }
   ],
   "source": [
    "df_pyspark.dtypes # เช็ค type ในแต่ละ columnn"
   ]
  },
  {
   "cell_type": "markdown",
   "id": "62c6f705-f7e4-4e2a-a496-bf452a10ba7e",
   "metadata": {},
   "source": [
    "# Check Describe option similar to Pandas"
   ]
  },
  {
   "cell_type": "code",
   "execution_count": 23,
   "id": "ead7b8ce-a4fb-43be-9d3e-6fa089d45807",
   "metadata": {},
   "outputs": [
    {
     "name": "stdout",
     "output_type": "stream",
     "text": [
      "+-------+-----+----+-----------------+\n",
      "|summary| Name| age|       Experience|\n",
      "+-------+-----+----+-----------------+\n",
      "|  count|    3|   3|                3|\n",
      "|   mean| null|30.0|7.333333333333333|\n",
      "| stddev| null| 1.0|3.055050463303893|\n",
      "|    min|Krish|  29|                4|\n",
      "|    max|Sunny|  31|               10|\n",
      "+-------+-----+----+-----------------+\n",
      "\n"
     ]
    }
   ],
   "source": [
    "df_pyspark.describe().show() # min ใน column Name คือข้อมูลแถวแรก max คือแถวสุดท้าบ"
   ]
  },
  {
   "cell_type": "markdown",
   "id": "678b35d9-4fa8-4fd0-9e13-02c1c16da670",
   "metadata": {},
   "source": [
    "# Adding Columns in Dataframe"
   ]
  },
  {
   "cell_type": "code",
   "execution_count": 27,
   "id": "1e31915d-2a4a-4b2a-91f2-45ce16ba2ecb",
   "metadata": {},
   "outputs": [],
   "source": [
    "# เพิ่ม column Experience After 2 year โดยนำ column Experience ไป + 2\n",
    "df_pyspark=df_pyspark.withColumn('Experience After 2 year', df_pyspark['Experience']+2)"
   ]
  },
  {
   "cell_type": "code",
   "execution_count": 28,
   "id": "6dff0fd4-3daa-4680-87c7-4f67befec1cf",
   "metadata": {},
   "outputs": [
    {
     "name": "stdout",
     "output_type": "stream",
     "text": [
      "+--------+---+----------+-----------------------+\n",
      "|    Name|age|Experience|Experience After 2 year|\n",
      "+--------+---+----------+-----------------------+\n",
      "|   Krish| 31|        10|                     12|\n",
      "|Sudhansh| 30|         8|                     10|\n",
      "|   Sunny| 29|         4|                      6|\n",
      "+--------+---+----------+-----------------------+\n",
      "\n"
     ]
    }
   ],
   "source": [
    "df_pyspark.show()"
   ]
  },
  {
   "cell_type": "markdown",
   "id": "29c3e234-f98a-4c5a-8047-7028a0dc0c75",
   "metadata": {},
   "source": [
    "# Dropping Columns"
   ]
  },
  {
   "cell_type": "code",
   "execution_count": 29,
   "id": "ef9ab228-6cb9-4f9c-b15f-9689932c1695",
   "metadata": {},
   "outputs": [],
   "source": [
    "# ลบ column Experience After 2 year \n",
    "df_pyspark=df_pyspark.drop('Experience After 2 year')"
   ]
  },
  {
   "cell_type": "code",
   "execution_count": 30,
   "id": "9566d685-01f9-4b11-aeb3-130ac26f4794",
   "metadata": {},
   "outputs": [
    {
     "name": "stdout",
     "output_type": "stream",
     "text": [
      "+--------+---+----------+\n",
      "|    Name|age|Experience|\n",
      "+--------+---+----------+\n",
      "|   Krish| 31|        10|\n",
      "|Sudhansh| 30|         8|\n",
      "|   Sunny| 29|         4|\n",
      "+--------+---+----------+\n",
      "\n"
     ]
    }
   ],
   "source": [
    "df_pyspark.show()"
   ]
  },
  {
   "cell_type": "markdown",
   "id": "de5d8953-52ae-4f09-b6a7-69c8538d369c",
   "metadata": {},
   "source": [
    "# Renaming Columns"
   ]
  },
  {
   "cell_type": "code",
   "execution_count": 33,
   "id": "46c342cc-f774-480f-98af-863a7cb7b676",
   "metadata": {},
   "outputs": [
    {
     "name": "stdout",
     "output_type": "stream",
     "text": [
      "+--------+---+----------+\n",
      "|New Name|age|Experience|\n",
      "+--------+---+----------+\n",
      "|   Krish| 31|        10|\n",
      "|Sudhansh| 30|         8|\n",
      "|   Sunny| 29|         4|\n",
      "+--------+---+----------+\n",
      "\n"
     ]
    }
   ],
   "source": [
    "# เปลี่ยนชิ้อ column Name เป็น New Name\n",
    "df_pyspark.withColumnRenamed('Name', 'New Name').show()"
   ]
  },
  {
   "cell_type": "code",
   "execution_count": null,
   "id": "5ad69ea1-e2ef-436e-ac5d-c38ee22258f8",
   "metadata": {},
   "outputs": [],
   "source": []
  }
 ],
 "metadata": {
  "kernelspec": {
   "display_name": "Python 3 (ipykernel)",
   "language": "python",
   "name": "python3"
  },
  "language_info": {
   "codemirror_mode": {
    "name": "ipython",
    "version": 3
   },
   "file_extension": ".py",
   "mimetype": "text/x-python",
   "name": "python",
   "nbconvert_exporter": "python",
   "pygments_lexer": "ipython3",
   "version": "3.9.12"
  }
 },
 "nbformat": 4,
 "nbformat_minor": 5
}
