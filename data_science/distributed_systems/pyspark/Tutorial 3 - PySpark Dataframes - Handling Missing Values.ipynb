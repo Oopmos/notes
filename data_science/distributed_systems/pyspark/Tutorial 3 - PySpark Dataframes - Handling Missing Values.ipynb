{
 "cells": [
  {
   "cell_type": "markdown",
   "id": "9c86e9bd-18de-478f-bcf1-9431c7531b3e",
   "metadata": {},
   "source": [
    "ใน tutorial นี้จะมี\n",
    "- Dropping Columns\n",
    "- Dropping Rows\n",
    "- Various Parameter in Dropping functionalities\n",
    "- Handling Missing values by Mean and Median"
   ]
  },
  {
   "cell_type": "markdown",
   "id": "5e5156f5-e34e-4ef4-b625-ae072d258388",
   "metadata": {},
   "source": [
    "# Start Spark session"
   ]
  },
  {
   "cell_type": "code",
   "execution_count": 1,
   "id": "b7ec42be-4f1e-43ce-8305-7c7c2aee96ed",
   "metadata": {},
   "outputs": [],
   "source": [
    "from pyspark.sql import SparkSession"
   ]
  },
  {
   "cell_type": "code",
   "execution_count": 2,
   "id": "9b91e99e-07f7-4846-b3b2-0c0e051d377e",
   "metadata": {},
   "outputs": [],
   "source": [
    "spark=SparkSession.builder.appName('Practise').getOrCreate()"
   ]
  },
  {
   "cell_type": "markdown",
   "id": "9707c4c0-dc61-4b40-9a7c-aee687aed637",
   "metadata": {},
   "source": [
    "# Reading The Dataset"
   ]
  },
  {
   "cell_type": "code",
   "execution_count": 3,
   "id": "445dd972-793a-465d-b92a-95ff2b7bbdf2",
   "metadata": {},
   "outputs": [],
   "source": [
    "df_pyspark=spark.read.csv('dataset/test2.csv', header=True, inferSchema=True)"
   ]
  },
  {
   "cell_type": "code",
   "execution_count": 4,
   "id": "164f781b-4a22-480f-8c56-1a50fcdf6796",
   "metadata": {},
   "outputs": [
    {
     "name": "stdout",
     "output_type": "stream",
     "text": [
      "+---------+----+----------+------+\n",
      "|     Name| age|Experience|Salary|\n",
      "+---------+----+----------+------+\n",
      "|    Krish|  31|        10| 30000|\n",
      "|Sudhanshu|  30|         8| 25000|\n",
      "|    Sunny|  29|         4| 20000|\n",
      "|     Paul|  24|         3| 20000|\n",
      "|   Harsha|  21|         1| 15000|\n",
      "|  Shubham|  23|         2| 18000|\n",
      "|   Mahesh|null|      null| 40000|\n",
      "|     null|  34|        10| 38000|\n",
      "|     null|  36|      null|  null|\n",
      "+---------+----+----------+------+\n",
      "\n"
     ]
    }
   ],
   "source": [
    "df_pyspark.show()"
   ]
  },
  {
   "cell_type": "markdown",
   "id": "3367631b-54a6-4214-b17a-6787dd3f0f0d",
   "metadata": {},
   "source": [
    "# Dropping Columns"
   ]
  },
  {
   "cell_type": "code",
   "execution_count": 5,
   "id": "1c70f160-4337-4216-8d37-d0252d0119e1",
   "metadata": {},
   "outputs": [
    {
     "name": "stdout",
     "output_type": "stream",
     "text": [
      "+----+----------+------+\n",
      "| age|Experience|Salary|\n",
      "+----+----------+------+\n",
      "|  31|        10| 30000|\n",
      "|  30|         8| 25000|\n",
      "|  29|         4| 20000|\n",
      "|  24|         3| 20000|\n",
      "|  21|         1| 15000|\n",
      "|  23|         2| 18000|\n",
      "|null|      null| 40000|\n",
      "|  34|        10| 38000|\n",
      "|  36|      null|  null|\n",
      "+----+----------+------+\n",
      "\n"
     ]
    }
   ],
   "source": [
    "df_pyspark.drop('Name').show()"
   ]
  },
  {
   "cell_type": "markdown",
   "id": "4ae23c1d-0724-4bea-ad57-cad72a33993b",
   "metadata": {},
   "source": [
    "# Dropping Rows"
   ]
  },
  {
   "cell_type": "code",
   "execution_count": 6,
   "id": "86c0cd06-45e2-4272-a6c3-a43b7aed30b3",
   "metadata": {},
   "outputs": [
    {
     "name": "stdout",
     "output_type": "stream",
     "text": [
      "+---------+---+----------+------+\n",
      "|     Name|age|Experience|Salary|\n",
      "+---------+---+----------+------+\n",
      "|    Krish| 31|        10| 30000|\n",
      "|Sudhanshu| 30|         8| 25000|\n",
      "|    Sunny| 29|         4| 20000|\n",
      "|     Paul| 24|         3| 20000|\n",
      "|   Harsha| 21|         1| 15000|\n",
      "|  Shubham| 23|         2| 18000|\n",
      "+---------+---+----------+------+\n",
      "\n"
     ]
    }
   ],
   "source": [
    "# ลบแถวที่มีข้อมูลเป็น null\n",
    "df_pyspark.na.drop().show()"
   ]
  },
  {
   "cell_type": "markdown",
   "id": "f57b6958-5bc5-4549-bfd3-5b96b12c1921",
   "metadata": {},
   "source": [
    "## how"
   ]
  },
  {
   "cell_type": "code",
   "execution_count": 11,
   "id": "9afa7833-5ee3-4197-8bb9-ae1d9ae6245a",
   "metadata": {},
   "outputs": [
    {
     "name": "stdout",
     "output_type": "stream",
     "text": [
      "+---------+----+----------+------+\n",
      "|     Name| age|Experience|Salary|\n",
      "+---------+----+----------+------+\n",
      "|    Krish|  31|        10| 30000|\n",
      "|Sudhanshu|  30|         8| 25000|\n",
      "|    Sunny|  29|         4| 20000|\n",
      "|     Paul|  24|         3| 20000|\n",
      "|   Harsha|  21|         1| 15000|\n",
      "|  Shubham|  23|         2| 18000|\n",
      "|   Mahesh|null|      null| 40000|\n",
      "|     null|  34|        10| 38000|\n",
      "|     null|  36|      null|  null|\n",
      "+---------+----+----------+------+\n",
      "\n"
     ]
    }
   ],
   "source": [
    "# ปกติแล้วจะลบแถวเมื่อเจอ null ซักตัว (how=any) แต่เราสามารถปรับได้\n",
    "# ลบแถวเมื่อข้อมูลในทุก column เป็น null (ไม่ลบเลย เพราะไม่มีแถวไหน null ทุก column)\n",
    "df_pyspark.na.drop(how='all').show()"
   ]
  },
  {
   "cell_type": "markdown",
   "id": "b2ae4951-a127-491e-a141-9c3e74490a0b",
   "metadata": {},
   "source": [
    "## threshold"
   ]
  },
  {
   "cell_type": "code",
   "execution_count": 13,
   "id": "ed5103be-5de5-4487-8cd7-ff9950a14c02",
   "metadata": {},
   "outputs": [
    {
     "name": "stdout",
     "output_type": "stream",
     "text": [
      "+---------+---+----------+------+\n",
      "|     Name|age|Experience|Salary|\n",
      "+---------+---+----------+------+\n",
      "|    Krish| 31|        10| 30000|\n",
      "|Sudhanshu| 30|         8| 25000|\n",
      "|    Sunny| 29|         4| 20000|\n",
      "|     Paul| 24|         3| 20000|\n",
      "|   Harsha| 21|         1| 15000|\n",
      "|  Shubham| 23|         2| 18000|\n",
      "|     null| 34|        10| 38000|\n",
      "+---------+---+----------+------+\n",
      "\n"
     ]
    }
   ],
   "source": [
    "# ปรับให้ลบเมื่อในแถวนั้นมีค่าที่ไม่ใช่ null จำนวนอย่างน้อย threshold ตัว\n",
    "# เช่น threshold = 3 หากนแถวนั้นมีข้อมูลที่ไม่ใช่ null ไม่ถึง 3 จะถูกลบ\n",
    "df_pyspark.na.drop(thresh=3).show()"
   ]
  },
  {
   "cell_type": "markdown",
   "id": "a72acd23-6fa5-4529-b553-2709af5170df",
   "metadata": {},
   "source": [
    "## subset"
   ]
  },
  {
   "cell_type": "code",
   "execution_count": 19,
   "id": "ac88c225-b2dc-4231-9d53-10a92ed2ea61",
   "metadata": {},
   "outputs": [
    {
     "name": "stdout",
     "output_type": "stream",
     "text": [
      "+---------+----+----------+------+\n",
      "|     Name| age|Experience|Salary|\n",
      "+---------+----+----------+------+\n",
      "|    Krish|  31|        10| 30000|\n",
      "|Sudhanshu|  30|         8| 25000|\n",
      "|    Sunny|  29|         4| 20000|\n",
      "|     Paul|  24|         3| 20000|\n",
      "|   Harsha|  21|         1| 15000|\n",
      "|  Shubham|  23|         2| 18000|\n",
      "|   Mahesh|null|      null| 40000|\n",
      "+---------+----+----------+------+\n",
      "\n"
     ]
    }
   ],
   "source": [
    "# ปรับให้ลบเมื่อเจอ null ใน column ที่กำหนด\n",
    "# ลบเมื่อเจอ null ใน column Name\n",
    "df_pyspark.na.drop(subset=['Name']).show()"
   ]
  },
  {
   "cell_type": "markdown",
   "id": "62c3aa57-a7ef-4055-9cf4-b332ab432b79",
   "metadata": {},
   "source": [
    "# Handling Missing values"
   ]
  },
  {
   "cell_type": "markdown",
   "id": "1f1786a9-5809-492c-927b-36df6c548524",
   "metadata": {},
   "source": [
    "## Filling null with Missing Values"
   ]
  },
  {
   "cell_type": "code",
   "execution_count": 27,
   "id": "ba376412-3803-407b-ae69-742daeff4e83",
   "metadata": {},
   "outputs": [
    {
     "name": "stdout",
     "output_type": "stream",
     "text": [
      "+---------+----+----------+------+\n",
      "|     Name| age|Experience|Salary|\n",
      "+---------+----+----------+------+\n",
      "|    Krish|  31|        10| 30000|\n",
      "|Sudhanshu|  30|         8| 25000|\n",
      "|    Sunny|  29|         4| 20000|\n",
      "|     Paul|  24|         3| 20000|\n",
      "|   Harsha|  21|         1| 15000|\n",
      "|  Shubham|  23|         2| 18000|\n",
      "|   Mahesh|null|      null| 40000|\n",
      "|         |  34|        10| 38000|\n",
      "|         |  36|      null|  null|\n",
      "+---------+----+----------+------+\n",
      "\n"
     ]
    }
   ],
   "source": [
    "# เปลี่ยน string ที่เป็น null เป็นช่องว่าง\n",
    "df_pyspark.na.fill('').show()"
   ]
  },
  {
   "cell_type": "code",
   "execution_count": 23,
   "id": "4593e752-cef4-4f2d-8088-f4e77215ea43",
   "metadata": {},
   "outputs": [
    {
     "name": "stdout",
     "output_type": "stream",
     "text": [
      "+---------+---+----------+------+\n",
      "|     Name|age|Experience|Salary|\n",
      "+---------+---+----------+------+\n",
      "|    Krish| 31|        10| 30000|\n",
      "|Sudhanshu| 30|         8| 25000|\n",
      "|    Sunny| 29|         4| 20000|\n",
      "|     Paul| 24|         3| 20000|\n",
      "|   Harsha| 21|         1| 15000|\n",
      "|  Shubham| 23|         2| 18000|\n",
      "|   Mahesh|  0|         0| 40000|\n",
      "|     null| 34|        10| 38000|\n",
      "|     null| 36|         0|     0|\n",
      "+---------+---+----------+------+\n",
      "\n"
     ]
    }
   ],
   "source": [
    "# เปลี่ยน integer ที่เป็น null เป็น 0\n",
    "df_pyspark.na.fill(0).show()"
   ]
  },
  {
   "cell_type": "code",
   "execution_count": 26,
   "id": "88eec247-89fd-414a-95d7-aa97f44a16e9",
   "metadata": {},
   "outputs": [
    {
     "name": "stdout",
     "output_type": "stream",
     "text": [
      "+---------+----+----------+------+\n",
      "|     Name| age|Experience|Salary|\n",
      "+---------+----+----------+------+\n",
      "|    Krish|  31|        10| 30000|\n",
      "|Sudhanshu|  30|         8| 25000|\n",
      "|    Sunny|  29|         4| 20000|\n",
      "|     Paul|  24|         3| 20000|\n",
      "|   Harsha|  21|         1| 15000|\n",
      "|  Shubham|  23|         2| 18000|\n",
      "|   Mahesh|null|      null| 40000|\n",
      "|     null|  34|        10| 38000|\n",
      "|     null|  36|      null|     0|\n",
      "+---------+----+----------+------+\n",
      "\n"
     ]
    }
   ],
   "source": [
    "# สามารถเลือก column ที่จะเปลี่ยนได้\n",
    "# เปลี่ยนเฉพาะ column Salary\n",
    "df_pyspark.na.fill(0, subset=['Salary']).show()"
   ]
  },
  {
   "cell_type": "markdown",
   "id": "69e49692-0ced-41de-af7e-ed9d8f5286e1",
   "metadata": {},
   "source": [
    "## Filling Value with Imputed Value (Mean, Median)"
   ]
  },
  {
   "cell_type": "code",
   "execution_count": 28,
   "id": "77c62892-bf3a-4cb6-b87f-dc81a4444fff",
   "metadata": {},
   "outputs": [],
   "source": [
    "from pyspark.ml.feature import Imputer"
   ]
  },
  {
   "cell_type": "code",
   "execution_count": 33,
   "id": "e52056a2-4c66-416d-905a-1c5aa747d635",
   "metadata": {},
   "outputs": [],
   "source": [
    "imputer = Imputer(\n",
    "    inputCols=['age', 'Experience', 'Salary'], # column ที่จะทำ\n",
    "    outputCols=['{}_imputed'.format(c) for c in ['age', 'Experience', 'Salary']] # ชื่อ column เมื่อแก้ไขเสร็จแล้ว\n",
    "    ).setStrategy(\"mean\") # mean หรือ median"
   ]
  },
  {
   "cell_type": "code",
   "execution_count": 31,
   "id": "2a828e0b-3f52-4911-aa2e-ffde004460be",
   "metadata": {},
   "outputs": [
    {
     "name": "stdout",
     "output_type": "stream",
     "text": [
      "+---------+----+----------+------+-----------+------------------+--------------+\n",
      "|     Name| age|Experience|Salary|age_imputed|Experience_imputed|Salary_imputed|\n",
      "+---------+----+----------+------+-----------+------------------+--------------+\n",
      "|    Krish|  31|        10| 30000|         31|                10|         30000|\n",
      "|Sudhanshu|  30|         8| 25000|         30|                 8|         25000|\n",
      "|    Sunny|  29|         4| 20000|         29|                 4|         20000|\n",
      "|     Paul|  24|         3| 20000|         24|                 3|         20000|\n",
      "|   Harsha|  21|         1| 15000|         21|                 1|         15000|\n",
      "|  Shubham|  23|         2| 18000|         23|                 2|         18000|\n",
      "|   Mahesh|null|      null| 40000|         28|                 5|         40000|\n",
      "|     null|  34|        10| 38000|         34|                10|         38000|\n",
      "|     null|  36|      null|  null|         36|                 5|         25750|\n",
      "+---------+----+----------+------+-----------+------------------+--------------+\n",
      "\n"
     ]
    }
   ],
   "source": [
    "# เพิ่ม imputation columns ไปใน Dataframe\n",
    "imputer.fit(df_pyspark).transform(df_pyspark).show()"
   ]
  },
  {
   "cell_type": "code",
   "execution_count": null,
   "id": "6da5db6a-6037-409d-97c3-913b25851cfd",
   "metadata": {},
   "outputs": [],
   "source": []
  }
 ],
 "metadata": {
  "kernelspec": {
   "display_name": "Python 3 (ipykernel)",
   "language": "python",
   "name": "python3"
  },
  "language_info": {
   "codemirror_mode": {
    "name": "ipython",
    "version": 3
   },
   "file_extension": ".py",
   "mimetype": "text/x-python",
   "name": "python",
   "nbconvert_exporter": "python",
   "pygments_lexer": "ipython3",
   "version": "3.9.12"
  }
 },
 "nbformat": 4,
 "nbformat_minor": 5
}
