{
 "cells": [
  {
   "cell_type": "markdown",
   "id": "6f647bca-1f9c-492c-a63b-ba53ddcb7a67",
   "metadata": {},
   "source": [
    "ใน tutorial นี้จะมี\n",
    "- Filter Operations\n",
    "- &, |, ==\n",
    "- ~"
   ]
  },
  {
   "cell_type": "markdown",
   "id": "fb208ab3-1c4b-4cc2-b2e5-143ee7130d4d",
   "metadata": {},
   "source": [
    "# Start Spark session"
   ]
  },
  {
   "cell_type": "code",
   "execution_count": 1,
   "id": "a7353404-beb0-455c-bcbb-0eb794a35c3f",
   "metadata": {},
   "outputs": [],
   "source": [
    "from pyspark.sql import SparkSession"
   ]
  },
  {
   "cell_type": "code",
   "execution_count": 2,
   "id": "354a87ce-2470-4ffd-8855-040c2107f683",
   "metadata": {},
   "outputs": [],
   "source": [
    "spark=SparkSession.builder.appName('Dataframe').getOrCreate()"
   ]
  },
  {
   "cell_type": "markdown",
   "id": "b5218eb0-261b-4d23-b304-8fa4f181e8fb",
   "metadata": {},
   "source": [
    "# Reading the Dataset"
   ]
  },
  {
   "cell_type": "code",
   "execution_count": 3,
   "id": "19f0b283-d8cc-4fb4-a599-2d552c4ec0c8",
   "metadata": {},
   "outputs": [],
   "source": [
    "df_pyspark=spark.read.csv('dataset/test4.csv', header=True, inferSchema=True)"
   ]
  },
  {
   "cell_type": "code",
   "execution_count": 4,
   "id": "a39151fc-508b-4446-a6ca-83ffe7e8d9b9",
   "metadata": {},
   "outputs": [
    {
     "name": "stdout",
     "output_type": "stream",
     "text": [
      "+--------+---+----------+------+\n",
      "|    Name|age|Experience|Salary|\n",
      "+--------+---+----------+------+\n",
      "|   Krish| 31|        10| 30000|\n",
      "|Sudhansh| 30|         8| 25000|\n",
      "|   Sunny| 29|         4| 20000|\n",
      "|    Paul| 24|         3| 20000|\n",
      "|  Harsha| 21|         1| 15000|\n",
      "| Shubham| 23|         2| 18000|\n",
      "+--------+---+----------+------+\n",
      "\n"
     ]
    }
   ],
   "source": [
    "df_pyspark.show()"
   ]
  },
  {
   "cell_type": "markdown",
   "id": "ebbe0872-9f97-49fe-bf97-ec34c842fe25",
   "metadata": {},
   "source": [
    "# Filter Operations"
   ]
  },
  {
   "cell_type": "code",
   "execution_count": 5,
   "id": "45c4e44f-c6cf-4d60-9ba7-469380263290",
   "metadata": {},
   "outputs": [
    {
     "name": "stdout",
     "output_type": "stream",
     "text": [
      "+-------+---+----------+------+\n",
      "|   Name|age|Experience|Salary|\n",
      "+-------+---+----------+------+\n",
      "|  Sunny| 29|         4| 20000|\n",
      "|   Paul| 24|         3| 20000|\n",
      "| Harsha| 21|         1| 15000|\n",
      "|Shubham| 23|         2| 18000|\n",
      "+-------+---+----------+------+\n",
      "\n"
     ]
    }
   ],
   "source": [
    "# หาคนที่มีเงินเดือนน้อยกว่าเท่ากับ 20000\n",
    "df_pyspark.filter('Salary<=20000').show()"
   ]
  },
  {
   "cell_type": "code",
   "execution_count": 7,
   "id": "a4666c2c-65ed-469e-8ac6-f5a159ead66b",
   "metadata": {},
   "outputs": [
    {
     "name": "stdout",
     "output_type": "stream",
     "text": [
      "+-------+---+\n",
      "|   Name|age|\n",
      "+-------+---+\n",
      "|  Sunny| 29|\n",
      "|   Paul| 24|\n",
      "| Harsha| 21|\n",
      "|Shubham| 23|\n",
      "+-------+---+\n",
      "\n"
     ]
    }
   ],
   "source": [
    "# หาคนที่มีเงินเดือนน้อยกว่าเท่ากับ 20000 แสดงแค่ column Name และ age\n",
    "df_pyspark.filter('Salary<=20000').select(['Name', 'age']).show()"
   ]
  },
  {
   "cell_type": "markdown",
   "id": "e0a313c1-200f-4b26-a8be-89c7e563f7d3",
   "metadata": {},
   "source": [
    "## &, |, =="
   ]
  },
  {
   "cell_type": "code",
   "execution_count": 8,
   "id": "cc582558-f4c3-4a91-b7c0-52bbae17ee87",
   "metadata": {},
   "outputs": [
    {
     "name": "stdout",
     "output_type": "stream",
     "text": [
      "+-------+---+----------+------+\n",
      "|   Name|age|Experience|Salary|\n",
      "+-------+---+----------+------+\n",
      "|  Sunny| 29|         4| 20000|\n",
      "|   Paul| 24|         3| 20000|\n",
      "| Harsha| 21|         1| 15000|\n",
      "|Shubham| 23|         2| 18000|\n",
      "+-------+---+----------+------+\n",
      "\n"
     ]
    }
   ],
   "source": [
    "# หาคนที่มีเงินเดือนระหว่าง 15000 ถึง 20000\n",
    "df_pyspark.filter((df_pyspark['Salary']<=20000) &\n",
    "                  (df_pyspark['Salary']>=15000)).show()"
   ]
  },
  {
   "cell_type": "markdown",
   "id": "37321373-4c95-4269-bbb5-0e677486f3a3",
   "metadata": {},
   "source": [
    "## ~"
   ]
  },
  {
   "cell_type": "code",
   "execution_count": 9,
   "id": "dfc5468c-75aa-44b1-bcaa-42d79b553465",
   "metadata": {},
   "outputs": [
    {
     "name": "stdout",
     "output_type": "stream",
     "text": [
      "+--------+---+----------+------+\n",
      "|    Name|age|Experience|Salary|\n",
      "+--------+---+----------+------+\n",
      "|   Krish| 31|        10| 30000|\n",
      "|Sudhansh| 30|         8| 25000|\n",
      "+--------+---+----------+------+\n",
      "\n"
     ]
    }
   ],
   "source": [
    "# หาคนที่มีเงินเดือนไม่น้อยกว่าเท่ากับ 20000\n",
    "df_pyspark.filter(~(df_pyspark['Salary']<=20000)).show()"
   ]
  }
 ],
 "metadata": {
  "kernelspec": {
   "display_name": "Python 3 (ipykernel)",
   "language": "python",
   "name": "python3"
  },
  "language_info": {
   "codemirror_mode": {
    "name": "ipython",
    "version": 3
   },
   "file_extension": ".py",
   "mimetype": "text/x-python",
   "name": "python",
   "nbconvert_exporter": "python",
   "pygments_lexer": "ipython3",
   "version": "3.9.12"
  }
 },
 "nbformat": 4,
 "nbformat_minor": 5
}
